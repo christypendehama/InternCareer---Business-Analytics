{
 "cells": [
  {
   "cell_type": "markdown",
   "id": "c51adfb6",
   "metadata": {},
   "source": [
    "\n",
    "# Exploratory Data Analysis\n",
    "\n",
    "In this notebook, we perform an exploratory data analysis (EDA) on a video game sales dataset. The aim is to clean, prepare, and analyze the data to uncover patterns and insights.\n",
    "\n",
    "## Data Cleaning and Preparation\n"
   ]
  },
  {
   "cell_type": "code",
   "execution_count": null,
   "id": "6d48fabf",
   "metadata": {},
   "outputs": [],
   "source": [
    "\n",
    "import pandas as pd\n",
    "\n",
    "# Load the dataset\n",
    "file_path = '/mnt/data/vgsales.csv'\n",
    "data = pd.read_csv(file_path)\n",
    "\n",
    "# Display the first few rows\n",
    "data.head()\n"
   ]
  },
  {
   "cell_type": "markdown",
   "id": "f3016bee",
   "metadata": {},
   "source": [
    "\n",
    "### Handling Missing Values\n",
    "\n",
    "We will check for missing values in the dataset and address them appropriately.\n"
   ]
  },
  {
   "cell_type": "code",
   "execution_count": null,
   "id": "e931e057",
   "metadata": {},
   "outputs": [],
   "source": [
    "\n",
    "# Check for missing values\n",
    "missing_values = data.isnull().sum()\n",
    "missing_values\n",
    "\n",
    "# Fill missing 'Year' values with the median year\n",
    "data['Year'].fillna(data['Year'].median(), inplace=True)\n",
    "\n",
    "# Fill missing 'Publisher' values with 'Unknown'\n",
    "data['Publisher'].fillna('Unknown', inplace=True)\n",
    "\n",
    "# Verify if all missing values have been addressed\n",
    "data.isnull().sum()\n"
   ]
  },
  {
   "cell_type": "markdown",
   "id": "e17aff7b",
   "metadata": {},
   "source": [
    "\n",
    "### Outlier Removal\n",
    "\n",
    "We will define a function to remove outliers based on the Interquartile Range (IQR) method and apply it to sales columns.\n"
   ]
  },
  {
   "cell_type": "code",
   "execution_count": null,
   "id": "b19ec6a3",
   "metadata": {},
   "outputs": [],
   "source": [
    "\n",
    "def remove_outliers(df, column_list):\n",
    "    for column in column_list:\n",
    "        Q1 = df[column].quantile(0.25)\n",
    "        Q3 = df[column].quantile(0.75)\n",
    "        IQR = Q3 - Q1\n",
    "        lower_bound = Q1 - 1.5 * IQR\n",
    "        upper_bound = Q3 + 1.5 * IQR\n",
    "        df = df[(df[column] >= lower_bound) & (df[column] <= upper_bound)]\n",
    "    return df\n",
    "\n",
    "# Columns to check for outliers\n",
    "sales_columns = ['NA_Sales', 'EU_Sales', 'JP_Sales', 'Other_Sales', 'Global_Sales']\n",
    "\n",
    "# Remove outliers from the dataset\n",
    "cleaned_data = remove_outliers(data, sales_columns)\n",
    "\n",
    "# Display the shape of the dataset before and after outlier removal\n",
    "original_shape, cleaned_shape = data.shape, cleaned_data.shape\n",
    "(original_shape, cleaned_shape)\n"
   ]
  },
  {
   "cell_type": "markdown",
   "id": "473d77c7",
   "metadata": {},
   "source": [
    "\n",
    "## Descriptive Analysis\n",
    "\n",
    "Performing summary statistics and visualizations to understand the distribution and central tendencies of the sales data.\n"
   ]
  },
  {
   "cell_type": "code",
   "execution_count": null,
   "id": "a4ddf807",
   "metadata": {},
   "outputs": [],
   "source": [
    "\n",
    "import matplotlib.pyplot as plt\n",
    "import seaborn as sns\n",
    "\n",
    "# Format the 'Year' column as integer\n",
    "cleaned_data['Year'] = cleaned_data['Year'].astype(int)\n",
    "\n",
    "# Perform summary statistics\n",
    "summary_stats = cleaned_data[['NA_Sales', 'EU_Sales', 'JP_Sales', 'Other_Sales', 'Global_Sales']].describe()\n",
    "\n",
    "# Visualizations: Histograms and Box Plots for Sales Data\n",
    "sns.set_style(\"whitegrid\")\n",
    "\n",
    "# Histograms for sales data\n",
    "plt.figure(figsize=(15, 10))\n",
    "for i, column in enumerate(['NA_Sales', 'EU_Sales', 'JP_Sales', 'Other_Sales', 'Global_Sales'], start=1):\n",
    "    plt.subplot(2, 3, i)\n",
    "    sns.histplot(cleaned_data[column], kde=True, bins=30)\n",
    "    plt.title(f'Distribution of {column}')\n",
    "plt.tight_layout()\n",
    "\n",
    "# Box plots for sales data\n",
    "plt.figure(figsize=(10, 6))\n",
    "sns.boxplot(data=cleaned_data[['NA_Sales', 'EU_Sales', 'JP_Sales', 'Other_Sales', 'Global_Sales']])\n",
    "plt.title('Box Plots of Sales Data')\n",
    "plt.xticks(ticks=[0, 1, 2, 3, 4], labels=['NA Sales', 'EU Sales', 'JP Sales', 'Other Sales', 'Global Sales'])\n",
    "plt.ylabel('Sales in Millions')\n",
    "\n",
    "summary_stats\n"
   ]
  }
 ],
 "metadata": {},
 "nbformat": 4,
 "nbformat_minor": 5
}
